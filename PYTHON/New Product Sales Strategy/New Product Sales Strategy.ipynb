{
 "cells": [
  {
   "cell_type": "markdown",
   "id": "cff6126e",
   "metadata": {},
   "source": [
    "# New Product Sales Methods Analysis\n",
    "\n",
    "\n",
    "Six weeks ago, we launched a new line of office stationery. Despite the world becoming increasingly digital, there is still demand for notebooks, pens, and sticky notes. Our focus has been on selling products to enable our customers to be more creative, focused on tools for brainstorming.\n",
    "\n",
    "We have tested three different sales strategies for this, targeted email and phone calls, as well as combining the two:\n",
    "\n",
    "- Email: Customers in this group received an email when the product line was launched, and a further email three weeks later.     This required very little work for the team.\n",
    "\n",
    "- Call: Customers in this group were called by a member of the sales team. On average, members of the team were on the phone     for around thirty minutes per customer.\n",
    "\n",
    "- Email and Call: Customers in this group were first sent the product information email, then called a week later by the sales   team to talk about their needs and how this new product may support their work. The email required little work from the team,   and the call was around ten minutes per customer."
   ]
  },
  {
   "cell_type": "markdown",
   "id": "624be977",
   "metadata": {},
   "source": [
    "## Business Goals\n",
    "\n",
    "Considering the launch of new products for office stationery needs, accompanied by changing customer purchasing methods, the sales strategy must also change. therefore, the sales team needs to ensure that the sales methods used are the best to sell the new product effectively.\n",
    "The sales tim want to know the following insights: \n",
    " - Differences in the number of customers based on each sales strategy approach\n",
    " - The distribution of revenue overall and for each method\n",
    " - Differences of revenue over time for each method\n",
    " - Based on the data, which method would you recommend we continue to use? Some\n",
    "   of these methods take more time from the team so they may not be the best for us to use if the results are similar"
   ]
  },
  {
   "cell_type": "markdown",
   "id": "492bff1f",
   "metadata": {},
   "source": [
    "## Data Validation"
   ]
  },
  {
   "cell_type": "code",
   "execution_count": 2,
   "id": "3fddd746",
   "metadata": {},
   "outputs": [
    {
     "data": {
      "text/html": [
       "<div>\n",
       "<style scoped>\n",
       "    .dataframe tbody tr th:only-of-type {\n",
       "        vertical-align: middle;\n",
       "    }\n",
       "\n",
       "    .dataframe tbody tr th {\n",
       "        vertical-align: top;\n",
       "    }\n",
       "\n",
       "    .dataframe thead th {\n",
       "        text-align: right;\n",
       "    }\n",
       "</style>\n",
       "<table border=\"1\" class=\"dataframe\">\n",
       "  <thead>\n",
       "    <tr style=\"text-align: right;\">\n",
       "      <th></th>\n",
       "      <th>week</th>\n",
       "      <th>sales_method</th>\n",
       "      <th>customer_id</th>\n",
       "      <th>nb_sold</th>\n",
       "      <th>revenue</th>\n",
       "      <th>years_as_customer</th>\n",
       "      <th>nb_site_visits</th>\n",
       "      <th>state</th>\n",
       "    </tr>\n",
       "  </thead>\n",
       "  <tbody>\n",
       "    <tr>\n",
       "      <th>0</th>\n",
       "      <td>2</td>\n",
       "      <td>Email</td>\n",
       "      <td>2e72d641-95ac-497b-bbf8-4861764a7097</td>\n",
       "      <td>10</td>\n",
       "      <td>NaN</td>\n",
       "      <td>0</td>\n",
       "      <td>24</td>\n",
       "      <td>Arizona</td>\n",
       "    </tr>\n",
       "    <tr>\n",
       "      <th>1</th>\n",
       "      <td>6</td>\n",
       "      <td>Email + Call</td>\n",
       "      <td>3998a98d-70f5-44f7-942e-789bb8ad2fe7</td>\n",
       "      <td>15</td>\n",
       "      <td>225.47</td>\n",
       "      <td>1</td>\n",
       "      <td>28</td>\n",
       "      <td>Kansas</td>\n",
       "    </tr>\n",
       "    <tr>\n",
       "      <th>2</th>\n",
       "      <td>5</td>\n",
       "      <td>Call</td>\n",
       "      <td>d1de9884-8059-4065-b10f-86eef57e4a44</td>\n",
       "      <td>11</td>\n",
       "      <td>52.55</td>\n",
       "      <td>6</td>\n",
       "      <td>26</td>\n",
       "      <td>Wisconsin</td>\n",
       "    </tr>\n",
       "    <tr>\n",
       "      <th>3</th>\n",
       "      <td>4</td>\n",
       "      <td>Email</td>\n",
       "      <td>78aa75a4-ffeb-4817-b1d0-2f030783c5d7</td>\n",
       "      <td>11</td>\n",
       "      <td>NaN</td>\n",
       "      <td>3</td>\n",
       "      <td>25</td>\n",
       "      <td>Indiana</td>\n",
       "    </tr>\n",
       "    <tr>\n",
       "      <th>4</th>\n",
       "      <td>3</td>\n",
       "      <td>Email</td>\n",
       "      <td>10e6d446-10a5-42e5-8210-1b5438f70922</td>\n",
       "      <td>9</td>\n",
       "      <td>90.49</td>\n",
       "      <td>0</td>\n",
       "      <td>28</td>\n",
       "      <td>Illinois</td>\n",
       "    </tr>\n",
       "  </tbody>\n",
       "</table>\n",
       "</div>"
      ],
      "text/plain": [
       "   week  sales_method                           customer_id  nb_sold  revenue  \\\n",
       "0     2         Email  2e72d641-95ac-497b-bbf8-4861764a7097       10      NaN   \n",
       "1     6  Email + Call  3998a98d-70f5-44f7-942e-789bb8ad2fe7       15   225.47   \n",
       "2     5          Call  d1de9884-8059-4065-b10f-86eef57e4a44       11    52.55   \n",
       "3     4         Email  78aa75a4-ffeb-4817-b1d0-2f030783c5d7       11      NaN   \n",
       "4     3         Email  10e6d446-10a5-42e5-8210-1b5438f70922        9    90.49   \n",
       "\n",
       "   years_as_customer  nb_site_visits      state  \n",
       "0                  0              24    Arizona  \n",
       "1                  1              28     Kansas  \n",
       "2                  6              26  Wisconsin  \n",
       "3                  3              25    Indiana  \n",
       "4                  0              28   Illinois  "
      ]
     },
     "metadata": {},
     "output_type": "display_data"
    }
   ],
   "source": [
    "# Importing Libraries\n",
    "import pandas as pd\n",
    "import matplotlib.pyplot as plt\n",
    "import seaborn as sns\n",
    "import numpy as np\n",
    "\n",
    "# load the data and view first few rows\n",
    "sales = pd.read_csv('product_sales.csv')\n",
    "display(sales.head())"
   ]
  },
  {
   "cell_type": "code",
   "execution_count": 3,
   "id": "c6b98ec4",
   "metadata": {},
   "outputs": [
    {
     "name": "stdout",
     "output_type": "stream",
     "text": [
      "<class 'pandas.core.frame.DataFrame'>\n",
      "RangeIndex: 15000 entries, 0 to 14999\n",
      "Data columns (total 8 columns):\n",
      " #   Column             Non-Null Count  Dtype  \n",
      "---  ------             --------------  -----  \n",
      " 0   week               15000 non-null  int64  \n",
      " 1   sales_method       15000 non-null  object \n",
      " 2   customer_id        15000 non-null  object \n",
      " 3   nb_sold            15000 non-null  int64  \n",
      " 4   revenue            13926 non-null  float64\n",
      " 5   years_as_customer  15000 non-null  int64  \n",
      " 6   nb_site_visits     15000 non-null  int64  \n",
      " 7   state              15000 non-null  object \n",
      "dtypes: float64(1), int64(4), object(3)\n",
      "memory usage: 937.6+ KB\n",
      "None\n",
      "\n",
      "\n"
     ]
    },
    {
     "data": {
      "text/html": [
       "<div>\n",
       "<style scoped>\n",
       "    .dataframe tbody tr th:only-of-type {\n",
       "        vertical-align: middle;\n",
       "    }\n",
       "\n",
       "    .dataframe tbody tr th {\n",
       "        vertical-align: top;\n",
       "    }\n",
       "\n",
       "    .dataframe thead th {\n",
       "        text-align: right;\n",
       "    }\n",
       "</style>\n",
       "<table border=\"1\" class=\"dataframe\">\n",
       "  <thead>\n",
       "    <tr style=\"text-align: right;\">\n",
       "      <th></th>\n",
       "      <th>week</th>\n",
       "      <th>nb_sold</th>\n",
       "      <th>revenue</th>\n",
       "      <th>years_as_customer</th>\n",
       "      <th>nb_site_visits</th>\n",
       "    </tr>\n",
       "  </thead>\n",
       "  <tbody>\n",
       "    <tr>\n",
       "      <th>count</th>\n",
       "      <td>15000.000000</td>\n",
       "      <td>15000.000000</td>\n",
       "      <td>13926.000000</td>\n",
       "      <td>15000.000000</td>\n",
       "      <td>15000.000000</td>\n",
       "    </tr>\n",
       "    <tr>\n",
       "      <th>mean</th>\n",
       "      <td>3.098267</td>\n",
       "      <td>10.084667</td>\n",
       "      <td>93.934943</td>\n",
       "      <td>4.965933</td>\n",
       "      <td>24.990867</td>\n",
       "    </tr>\n",
       "    <tr>\n",
       "      <th>std</th>\n",
       "      <td>1.656420</td>\n",
       "      <td>1.812213</td>\n",
       "      <td>47.435312</td>\n",
       "      <td>5.044952</td>\n",
       "      <td>3.500914</td>\n",
       "    </tr>\n",
       "    <tr>\n",
       "      <th>min</th>\n",
       "      <td>1.000000</td>\n",
       "      <td>7.000000</td>\n",
       "      <td>32.540000</td>\n",
       "      <td>0.000000</td>\n",
       "      <td>12.000000</td>\n",
       "    </tr>\n",
       "    <tr>\n",
       "      <th>25%</th>\n",
       "      <td>2.000000</td>\n",
       "      <td>9.000000</td>\n",
       "      <td>52.470000</td>\n",
       "      <td>1.000000</td>\n",
       "      <td>23.000000</td>\n",
       "    </tr>\n",
       "    <tr>\n",
       "      <th>50%</th>\n",
       "      <td>3.000000</td>\n",
       "      <td>10.000000</td>\n",
       "      <td>89.500000</td>\n",
       "      <td>3.000000</td>\n",
       "      <td>25.000000</td>\n",
       "    </tr>\n",
       "    <tr>\n",
       "      <th>75%</th>\n",
       "      <td>5.000000</td>\n",
       "      <td>11.000000</td>\n",
       "      <td>107.327500</td>\n",
       "      <td>7.000000</td>\n",
       "      <td>27.000000</td>\n",
       "    </tr>\n",
       "    <tr>\n",
       "      <th>max</th>\n",
       "      <td>6.000000</td>\n",
       "      <td>16.000000</td>\n",
       "      <td>238.320000</td>\n",
       "      <td>63.000000</td>\n",
       "      <td>41.000000</td>\n",
       "    </tr>\n",
       "  </tbody>\n",
       "</table>\n",
       "</div>"
      ],
      "text/plain": [
       "               week       nb_sold       revenue  years_as_customer  \\\n",
       "count  15000.000000  15000.000000  13926.000000       15000.000000   \n",
       "mean       3.098267     10.084667     93.934943           4.965933   \n",
       "std        1.656420      1.812213     47.435312           5.044952   \n",
       "min        1.000000      7.000000     32.540000           0.000000   \n",
       "25%        2.000000      9.000000     52.470000           1.000000   \n",
       "50%        3.000000     10.000000     89.500000           3.000000   \n",
       "75%        5.000000     11.000000    107.327500           7.000000   \n",
       "max        6.000000     16.000000    238.320000          63.000000   \n",
       "\n",
       "       nb_site_visits  \n",
       "count    15000.000000  \n",
       "mean        24.990867  \n",
       "std          3.500914  \n",
       "min         12.000000  \n",
       "25%         23.000000  \n",
       "50%         25.000000  \n",
       "75%         27.000000  \n",
       "max         41.000000  "
      ]
     },
     "metadata": {},
     "output_type": "display_data"
    }
   ],
   "source": [
    "# Display general information about the 'sales' dataset using the info() method.\n",
    "print(sales.info())\n",
    "\n",
    "print('\\n')\n",
    "\n",
    "# Display summary statistics for the 'sales' dataset using the describe() method.\n",
    "display(sales.describe())"
   ]
  },
  {
   "cell_type": "code",
   "execution_count": 4,
   "id": "3146c9af",
   "metadata": {},
   "outputs": [
    {
     "data": {
      "text/plain": [
       "week                    0\n",
       "sales_method            0\n",
       "customer_id             0\n",
       "nb_sold                 0\n",
       "revenue              1074\n",
       "years_as_customer       0\n",
       "nb_site_visits          0\n",
       "state                   0\n",
       "dtype: int64"
      ]
     },
     "execution_count": 4,
     "metadata": {},
     "output_type": "execute_result"
    }
   ],
   "source": [
    "# check for the sum of the null values in the dataframe\n",
    "sales.isna().sum()"
   ]
  },
  {
   "cell_type": "code",
   "execution_count": 5,
   "id": "39ec278a",
   "metadata": {},
   "outputs": [
    {
     "name": "stdout",
     "output_type": "stream",
     "text": [
      "Mising values of the 'revenue' column is greater than the threshold So the 'revenue' column will not be dropped.\n"
     ]
    }
   ],
   "source": [
    "# Specify the column for missing values\n",
    "column_to_check = 'revenue'\n",
    "\n",
    "# Step 1: Count the number of missing values in the column\n",
    "missing_values_count = sales[column_to_check].isnull().sum()\n",
    "\n",
    "# Step 2: Calculate the threshold for missing values (5 percent)\n",
    "total_rows = len(sales)\n",
    "threshold = 0.05 * total_rows\n",
    "\n",
    "# Step 3: Compare the count of missing values with the threshold\n",
    "if missing_values_count <= threshold:\n",
    "    # Step 4: If the count <= threshold, drop the rows with missing values\n",
    "    sales.dropna(subset=[column_to_check], inplace=True)\n",
    "    print(f\"Dropped rows with missing '{column_to_check}' values due to excessive missing values.\")\n",
    "else:\n",
    "    print(f\"Mising values of the '{column_to_check}' column is greater than the threshold So the '{column_to_check}' column will not be dropped.\")"
   ]
  },
  {
   "cell_type": "code",
   "execution_count": 6,
   "id": "9586607a",
   "metadata": {},
   "outputs": [],
   "source": [
    "# replace missing value in revenue column with median\n",
    "sales['revenue'] = sales.revenue.fillna(sales['revenue'].median())"
   ]
  },
  {
   "cell_type": "code",
   "execution_count": 7,
   "id": "3a87a816",
   "metadata": {},
   "outputs": [
    {
     "name": "stdout",
     "output_type": "stream",
     "text": [
      "Unique values in 'week':\n",
      "[2 6 5 4 3 1]\n",
      "6\n",
      "\n",
      "\n",
      "Unique values in 'sales_method':\n",
      "['Email' 'Email + Call' 'Call' 'em + call' 'email']\n",
      "5\n",
      "\n",
      "\n",
      "Unique values in 'customer_id':\n",
      "['2e72d641-95ac-497b-bbf8-4861764a7097'\n",
      " '3998a98d-70f5-44f7-942e-789bb8ad2fe7'\n",
      " 'd1de9884-8059-4065-b10f-86eef57e4a44' ...\n",
      " '839653cb-68c9-48cb-a097-0a5a3b2b298b'\n",
      " 'e4dad70a-b23b-407c-8bd3-e32ea00fae17'\n",
      " '4e077235-7c17-4054-9997-7a890336a214']\n",
      "15000\n",
      "\n",
      "\n",
      "Unique values in 'nb_sold':\n",
      "[10 15 11  9 13  8 12  7 14 16]\n",
      "10\n",
      "\n",
      "\n",
      "Unique values in 'revenue':\n",
      "[ 89.5  225.47  52.55 ...  44.34  45.01  64.9 ]\n",
      "6743\n",
      "\n",
      "\n",
      "Unique values in 'years_as_customer':\n",
      "[ 0  1  6  3 10  9  7  4  2 20  8  5 17 36 15 14 19 13 12 11 30 24 22 18\n",
      " 26 23 32 16 39 25 33 21 31 27 34 28 29 35 38 37 63 47]\n",
      "42\n",
      "\n",
      "\n",
      "Unique values in 'nb_site_visits':\n",
      "[24 28 26 25 22 31 23 30 21 27 32 29 20 18 19 35 16 17 33 36 34 15 37 14\n",
      " 13 12 41]\n",
      "27\n",
      "\n",
      "\n",
      "Unique values in 'state':\n",
      "['Arizona' 'Kansas' 'Wisconsin' 'Indiana' 'Illinois' 'Mississippi'\n",
      " 'Georgia' 'Oklahoma' 'Massachusetts' 'Missouri' 'Texas' 'New York'\n",
      " 'Maryland' 'California' 'Tennessee' 'Pennsylvania' 'North Dakota'\n",
      " 'Florida' 'Michigan' 'North Carolina' 'Hawaii' 'Colorado' 'Louisiana'\n",
      " 'Virginia' 'New Mexico' 'Arkansas' 'Alaska' 'Oregon' 'New Hampshire'\n",
      " 'Ohio' 'New Jersey' 'Connecticut' 'Iowa' 'Montana' 'Washington'\n",
      " 'Kentucky' 'Alabama' 'Nebraska' 'South Carolina' 'Minnesota'\n",
      " 'South Dakota' 'Delaware' 'Maine' 'Utah' 'West Virginia' 'Vermont'\n",
      " 'Rhode Island' 'Nevada' 'Idaho' 'Wyoming']\n",
      "50\n",
      "\n",
      "\n"
     ]
    }
   ],
   "source": [
    "# Get the list of column names in the 'sales' dataset.\n",
    "columns = sales.columns\n",
    "\n",
    "# Iterate through each column in the dataset and print the unique values\n",
    "for col in columns:\n",
    "    unique_values = sales[col].unique()\n",
    "    num_of_unique_values = sales[col].nunique()\n",
    "    print(f\"Unique values in '{col}':\")\n",
    "    print(unique_values)\n",
    "    print(num_of_unique_values)\n",
    "    print(\"\\n\")"
   ]
  },
  {
   "cell_type": "code",
   "execution_count": 8,
   "id": "5c2b2001",
   "metadata": {},
   "outputs": [],
   "source": [
    "# cleaning sales method \n",
    "sales['sales_method'] = sales['sales_method'].replace({'em + call': 'Email + Call', 'email': 'Email'})"
   ]
  },
  {
   "cell_type": "code",
   "execution_count": 9,
   "id": "53e6aeae",
   "metadata": {},
   "outputs": [
    {
     "data": {
      "text/html": [
       "<div>\n",
       "<style scoped>\n",
       "    .dataframe tbody tr th:only-of-type {\n",
       "        vertical-align: middle;\n",
       "    }\n",
       "\n",
       "    .dataframe tbody tr th {\n",
       "        vertical-align: top;\n",
       "    }\n",
       "\n",
       "    .dataframe thead th {\n",
       "        text-align: right;\n",
       "    }\n",
       "</style>\n",
       "<table border=\"1\" class=\"dataframe\">\n",
       "  <thead>\n",
       "    <tr style=\"text-align: right;\">\n",
       "      <th></th>\n",
       "      <th>week</th>\n",
       "      <th>sales_method</th>\n",
       "      <th>customer_id</th>\n",
       "      <th>nb_sold</th>\n",
       "      <th>revenue</th>\n",
       "      <th>years_as_customer</th>\n",
       "      <th>nb_site_visits</th>\n",
       "      <th>state</th>\n",
       "    </tr>\n",
       "  </thead>\n",
       "  <tbody>\n",
       "    <tr>\n",
       "      <th>13741</th>\n",
       "      <td>2</td>\n",
       "      <td>Email</td>\n",
       "      <td>18919515-a618-430c-9a05-2c7d8fea96af</td>\n",
       "      <td>10</td>\n",
       "      <td>97.22</td>\n",
       "      <td>63</td>\n",
       "      <td>24</td>\n",
       "      <td>California</td>\n",
       "    </tr>\n",
       "    <tr>\n",
       "      <th>13800</th>\n",
       "      <td>4</td>\n",
       "      <td>Call</td>\n",
       "      <td>2ea97d34-571d-4e1b-95be-fea1c404649f</td>\n",
       "      <td>10</td>\n",
       "      <td>50.47</td>\n",
       "      <td>47</td>\n",
       "      <td>27</td>\n",
       "      <td>California</td>\n",
       "    </tr>\n",
       "  </tbody>\n",
       "</table>\n",
       "</div>"
      ],
      "text/plain": [
       "       week sales_method                           customer_id  nb_sold  \\\n",
       "13741     2        Email  18919515-a618-430c-9a05-2c7d8fea96af       10   \n",
       "13800     4         Call  2ea97d34-571d-4e1b-95be-fea1c404649f       10   \n",
       "\n",
       "       revenue  years_as_customer  nb_site_visits       state  \n",
       "13741    97.22                 63              24  California  \n",
       "13800    50.47                 47              27  California  "
      ]
     },
     "metadata": {},
     "output_type": "display_data"
    }
   ],
   "source": [
    "# Filter the DataFrame based on the condition 'years_as_customer' > 39\n",
    "sales_out_of_range_rows = sales[sales['years_as_customer'] > 39]\n",
    "\n",
    "# Print the 'years_as_customer' column with its name\n",
    "display(sales_out_of_range_rows)"
   ]
  },
  {
   "cell_type": "code",
   "execution_count": 10,
   "id": "28d072d8",
   "metadata": {},
   "outputs": [
    {
     "name": "stdout",
     "output_type": "stream",
     "text": [
      "Empty DataFrame\n",
      "Columns: [week, sales_method, customer_id, nb_sold, revenue, years_as_customer, nb_site_visits, state]\n",
      "Index: []\n"
     ]
    }
   ],
   "source": [
    "# Filter the DataFrame to keep only rows where 'years_as_customer' <= 39\n",
    "sales = sales[sales['years_as_customer'] <= 39]\n",
    "\n",
    "# Now, the 'sales' DataFrame contains only rows where 'years_as_customer' is not greater than 39\n",
    "sales_out_of_range_rows = sales[sales['years_as_customer'] > 39]\n",
    "print(sales_out_of_range_rows)"
   ]
  },
  {
   "cell_type": "code",
   "execution_count": 11,
   "id": "2c3868da",
   "metadata": {},
   "outputs": [
    {
     "name": "stdout",
     "output_type": "stream",
     "text": [
      "Total duplicates: 0\n",
      "columns with empty strings are: Index([], dtype='object')\n",
      "\n",
      "\n",
      "Numeric columns do not contain negative values.\n",
      "\n",
      "\n"
     ]
    }
   ],
   "source": [
    "# Check for duplicated rows\n",
    "duplicates = sales.duplicated()\n",
    "\n",
    "# Count the total number of duplicates\n",
    "total_duplicates = duplicates.sum()\n",
    "\n",
    "# Print the total number of duplicate rows\n",
    "print(f\"Total duplicates: {total_duplicates}\")\n",
    "\n",
    "# Check for columns with empty strings\n",
    "columns_with_empty_strings = sales.columns[sales.applymap(lambda x: x == '').any()]\n",
    "\n",
    "# Print the columns with empty strings\n",
    "print('columns with empty strings are:', columns_with_empty_strings)\n",
    "print('\\n')\n",
    "\n",
    "# Select numeric columns\n",
    "numeric_cols = sales.select_dtypes(include=[np.number])\n",
    "\n",
    "# Check if numeric columns contain negative values\n",
    "contains_negative = (numeric_cols < 0).any().any()\n",
    "\n",
    "if contains_negative:\n",
    "    print(\"Numeric columns contain negative values.\")\n",
    "else:\n",
    "    print(\"Numeric columns do not contain negative values.\")\n",
    "print('\\n')"
   ]
  },
  {
   "cell_type": "code",
   "execution_count": 12,
   "id": "92ff5bfe",
   "metadata": {},
   "outputs": [
    {
     "name": "stdout",
     "output_type": "stream",
     "text": [
      "<class 'pandas.core.frame.DataFrame'>\n",
      "Int64Index: 14998 entries, 0 to 14999\n",
      "Data columns (total 8 columns):\n",
      " #   Column             Non-Null Count  Dtype   \n",
      "---  ------             --------------  -----   \n",
      " 0   week               14998 non-null  int64   \n",
      " 1   sales_method       14998 non-null  category\n",
      " 2   customer_id        14998 non-null  object  \n",
      " 3   nb_sold            14998 non-null  int64   \n",
      " 4   revenue            14998 non-null  float64 \n",
      " 5   years_as_customer  14998 non-null  int64   \n",
      " 6   nb_site_visits     14998 non-null  int64   \n",
      " 7   state              14998 non-null  object  \n",
      "dtypes: category(1), float64(1), int64(4), object(2)\n",
      "memory usage: 952.2+ KB\n",
      "None\n",
      "\n",
      "\n",
      "week                 0\n",
      "sales_method         0\n",
      "customer_id          0\n",
      "nb_sold              0\n",
      "revenue              0\n",
      "years_as_customer    0\n",
      "nb_site_visits       0\n",
      "state                0\n",
      "dtype: int64\n"
     ]
    }
   ],
   "source": [
    "# Change 'sales_method' data type to category\n",
    "sales['sales_method'] = sales['sales_method'].astype('category')\n",
    "\n",
    "# Display information of the dataframe and the sum of null values of each column\n",
    "print(sales.info())\n",
    "print('\\n')\n",
    "print(sales.isna().sum())"
   ]
  },
  {
   "cell_type": "markdown",
   "id": "c1bfa76a",
   "metadata": {},
   "source": [
    "### Data Validation Summary\n",
    "\n",
    "- The dataset used for this analysis is product_sales.csv\n",
    "- The number of observations is 15,000; the number of columns is 8.\n",
    "- The 8 attributes are identified below.\n",
    "- Variables were converted to their appropriate data type, where required, as follows:\n",
    "  - `week` to integer\n",
    "  - `sales_method` to factor\n",
    "  - `customer_id` to character\n",
    "  - `nb_sold` to integer\n",
    "  - `revenue` to double, rounded to 2 d.p.\n",
    "  - `years_as_customer` to integer\n",
    "  - `nb_site_visits` to integer\n",
    "  - `state` to factor\n",
    "- After data type conversion, the data profile of the dataset was compared against the avaiable documentation for data validation, and the following observations were made and associated actions taken:\n",
    "  - `week`\n",
    "     - General Observations: 6 unique values, from week 1 to 6.\n",
    "     - Missing Values: None\n",
    "     - Action Taken: None\n",
    "  - `sales_method`\n",
    "     - General Observations: There are 5 unique values consisting of [Email, Call, Email + Call, em + call,        e-mail], but there should be 3 unique values only.\n",
    "     - Missing Values: None\n",
    "     - Action Taken: Categories are not standardized, and have been updated to align to consist of [Email,          Call, Email + Call] which corresponds to the description.\n",
    "  - `customer_id`\n",
    "     - General Observations: All values are unique, all values have a character length of 36, no whitespace.\n",
    "     - Missing Values: None\n",
    "     - Action Taken: None\n",
    "  - `nb_sold`\n",
    "     - General Observations: numeric values, varies between 7 and 16.\n",
    "     - Missing Values: None\n",
    "     - Action Taken: None\n",
    "  - `revenue`\n",
    "     - General Observations: numeric values, Varies between 32.54 and 238.32 \n",
    "     - Missing Values: 1074 missing values (7% of total rows).\n",
    "     - Action Taken: because the missing values is more than the 5% threshold. Then missing values are              filled with the median. \n",
    "  - `years_as_customer`\n",
    "     - General Observations: numeric values, varies between 0 and 63; 63 corresponds to the Year 2023-63 =          1960; The max threshold should be 2023-1984 = 39; therefore, there are two rows of data that are more        than 39 (0.001% of total rows)\n",
    "     - Missing Values: None\n",
    "     - Action Taken: Drop two rows that have a value above 39.\n",
    "  - `nb_site_visits`\n",
    "     - General Observations: numeric values, varies between 12 and 41\n",
    "     - Missing Values: None\n",
    "     - Action Taken: None\n",
    "  - `state`\n",
    "     - General Observations: 50 unique values\n",
    "     - Missing Values: None\n",
    "     - Action Taken: None\n",
    "\n",
    "After the data validation, the dataset contains 14998 rows and 8 columns without missing values."
   ]
  },
  {
   "cell_type": "markdown",
   "id": "612d20d5",
   "metadata": {},
   "source": [
    "## Exploratory Data Analysis"
   ]
  },
  {
   "cell_type": "markdown",
   "id": "6276c39d",
   "metadata": {},
   "source": [
    "### a. How many customers were there for each approach?"
   ]
  },
  {
   "cell_type": "code",
   "execution_count": 13,
   "id": "6063b4dd",
   "metadata": {},
   "outputs": [
    {
     "data": {
      "image/png": "[encoded data removed]",
      "text/plain": [
       "<Figure size 720x432 with 1 Axes>"
      ]
     },
     "metadata": {
      "needs_background": "light"
     },
     "output_type": "display_data"
    }
   ],
   "source": [
    "# number of customer gorup by sales method\n",
    "customer_count_by_method = sales.groupby('sales_method')['customer_id'].nunique().reset_index()\n",
    "\n",
    "# barchart the number of customer by sales method\n",
    "plt.figure(figsize=(10, 6))\n",
    "sns.barplot(x='sales_method', y='customer_id', data=customer_count_by_method, palette='viridis')\n",
    "plt.title('Number of Customers for Each Sales Method', fontweight='bold')\n",
    "plt.xlabel('Sales Method')\n",
    "plt.ylabel('Count / Number of Customers')\n",
    "plt.show()"
   ]
  },
  {
   "cell_type": "markdown",
   "id": "c7e629f4",
   "metadata": {},
   "source": [
    "From the last 6 weeks record. When a new product was launched, the sales strategy was carried out by the sales team mostly used an email strategy. Followed by the call method and finally the combination method of the two.Also we can see that the email sales method is 3 times higher than the combination Email + Call method. And the call method is twice as large."
   ]
  },
  {
   "cell_type": "markdown",
   "id": "81688521",
   "metadata": {},
   "source": [
    "### b. What does the spread of the revenue look like overall? And for each method?"
   ]
  },
  {
   "cell_type": "code",
   "execution_count": 14,
   "id": "51d1a3de",
   "metadata": {},
   "outputs": [
    {
     "data": {
      "text/plain": [
       "Text(0, 0.5, 'Count')"
      ]
     },
     "execution_count": 14,
     "metadata": {},
     "output_type": "execute_result"
    },
    {
     "data": {
      "image/png": "[encoded data removed]",
      "text/plain": [
       "<Figure size 576x432 with 1 Axes>"
      ]
     },
     "metadata": {
      "needs_background": "light"
     },
     "output_type": "display_data"
    }
   ],
   "source": [
    "# Differences in revenue for each sales method approach - Revenue\n",
    "plt.figure(figsize=(8, 6))\n",
    "sns.histplot(data=sales, x='revenue', kde= True)\n",
    "plt.title('The Distribution of Revenue Overall', fontweight='bold')\n",
    "plt.xlabel('Revenue')\n",
    "plt.ylabel('Count')"
   ]
  },
  {
   "cell_type": "markdown",
   "id": "4c389e7f",
   "metadata": {},
   "source": [
    "We can see the distribution of revenue generated through a histogram. The majority of revenue achieved in the last 6 weeks was less than 200. For revenue more than 200 , this could be considered an outlier."
   ]
  },
  {
   "cell_type": "code",
   "execution_count": 15,
   "id": "d2a1b385",
   "metadata": {},
   "outputs": [
    {
     "data": {
      "text/plain": [
       "Text(0, 0.5, 'Revenue')"
      ]
     },
     "execution_count": 15,
     "metadata": {},
     "output_type": "execute_result"
    },
    {
     "data": {
      "image/png": "[encoded data removed]",
      "text/plain": [
       "<Figure size 1440x576 with 1 Axes>"
      ]
     },
     "metadata": {
      "needs_background": "light"
     },
     "output_type": "display_data"
    }
   ],
   "source": [
    "#Differences in revenue for each sales method approach - Revenue\n",
    "plt.figure(figsize=(20, 8))\n",
    "plt.subplot(1, 2, 2)\n",
    "sns.boxplot(x='sales_method', y='revenue', data=sales)\n",
    "plt.title('The Distribution of Revenue by Method',fontweight='bold')\n",
    "plt.xlabel('Sales Method')\n",
    "plt.ylabel('Revenue')"
   ]
  },
  {
   "cell_type": "markdown",
   "id": "7718d78b",
   "metadata": {},
   "source": [
    "From this multiple box plot, we can see that the revenue generated by the Email+Call sales method is more significant than other methods. Majorly This method's revenue is in the range of 149.82 to 189.53. which is the highest compared to other methods. \n",
    "Email sales method, as the sales method most widely used by sales teams. only get revenue mostly in the 88.39 to 104.46 range."
   ]
  },
  {
   "cell_type": "markdown",
   "id": "374926ac",
   "metadata": {},
   "source": [
    "### c. Was there any difference in revenue over time for each of the methods?"
   ]
  },
  {
   "cell_type": "code",
   "execution_count": 16,
   "id": "0d1e1d40",
   "metadata": {},
   "outputs": [
    {
     "data": {
      "image/png": "[encoded data removed]",
      "text/plain": [
       "<Figure size 720x432 with 1 Axes>"
      ]
     },
     "metadata": {
      "needs_background": "light"
     },
     "output_type": "display_data"
    }
   ],
   "source": [
    "# Mengelompokkan data berdasarkan minggu dan sales_method, kemudian mengambil total pendapatan\n",
    "revenue_by_week = sales.groupby(['week', 'sales_method'])['revenue'].sum().reset_index()\n",
    "\n",
    "plt.figure(figsize=(10, 6))\n",
    "\n",
    "# Menggunakan lineplot dari seaborn dengan total pendapatan\n",
    "sns.lineplot(x='week', y='revenue', hue='sales_method', data=revenue_by_week, ci=None)\n",
    "\n",
    "plt.title('Total Revenue Over Time for Each Method', fontweight='bold')\n",
    "plt.xlabel('Week')\n",
    "plt.ylabel('Total Revenue')\n",
    "plt.legend(title='Sales Method', loc='upper right')\n",
    "\n",
    "plt.show()"
   ]
  },
  {
   "cell_type": "markdown",
   "id": "8f97a8e2",
   "metadata": {},
   "source": [
    "From this line chart, it can be seen that the total revenue resulting from the Email+Call sales method tends to increase. We can also see that total revenue via email sales method tends to decrease, and total revenue via call sales method shows no significant changes each week."
   ]
  },
  {
   "cell_type": "markdown",
   "id": "db9e1aad",
   "metadata": {},
   "source": [
    "### d. What is the average revenue for each sales method in the last 6 weeks?"
   ]
  },
  {
   "cell_type": "code",
   "execution_count": 17,
   "id": "2bce9b7c",
   "metadata": {},
   "outputs": [
    {
     "data": {
      "image/png": "[encoded data removed]",
      "text/plain": [
       "<Figure size 720x432 with 1 Axes>"
      ]
     },
     "metadata": {
      "needs_background": "light"
     },
     "output_type": "display_data"
    }
   ],
   "source": [
    "# Menghitung rata-rata pendapatan untuk setiap metode\n",
    "average_revenue_by_method = sales.groupby('sales_method')['revenue'].mean().reset_index()\n",
    "\n",
    "# Membuat grafik batang\n",
    "plt.figure(figsize=(10, 6))\n",
    "sns.barplot(x='sales_method', y='revenue', data=average_revenue_by_method, palette='viridis')\n",
    "plt.title('Average Revenue per Cutomer for Each Method',fontweight='bold')\n",
    "plt.xlabel('Sales Method')\n",
    "plt.ylabel('Average Revenue per Customer')\n",
    "plt.show()"
   ]
  },
  {
   "cell_type": "markdown",
   "id": "c317d6c4",
   "metadata": {},
   "source": [
    "From this bar chart graph, it can be seen that the highest average revenue per customer was achieved by the Email+Call sales method, namely 170.88 per customer.\n",
    "It can be concluded that the email+call method is the most effective for achieving good revenue\n"
   ]
  },
  {
   "cell_type": "markdown",
   "id": "c92edfa2",
   "metadata": {},
   "source": [
    "## Business Metrics\n",
    "\n",
    "Given the launch of a new product in office stationery six weeks ago, our focus is to ensure that we use the best techniques to sell new products effectively. I recommend we use **the average revenue per customer last six weeks** to measure the success of a sales strategy as a key metric.\n",
    "\n",
    "Based on data from the last 6 weeks, the analysis results show the highest average revenue per customer of 170.88 was achieved through the Email + Call sales method. Therefore, if this number increases in the next 6 weeks, it bodes well for achieving our goals"
   ]
  },
  {
   "cell_type": "markdown",
   "id": "24ef6395",
   "metadata": {},
   "source": [
    "## Recommendation\n",
    "\n",
    "For the following weeks, I would recommend we can focus on the following steps:\n",
    "\n",
    "- Using key metrics to monitor whether there is a strong sign to see the revenue per customer will increase.\n",
    "- To implement the sales strategy, I recommend prioritizing the Call+Email method as the main focus for your upcoming sales strategy. because this method provides the highest average revenue per customer, and has a total revenue that tends to increase over time. "
   ]
  },
  {
   "cell_type": "code",
   "execution_count": null,
   "id": "2bf57161",
   "metadata": {},
   "outputs": [],
   "source": []
  }
 ],
 "metadata": {
  "colab": {
   "name": "Welcome to DataCamp Workspaces.ipynb",
   "provenance": []
  },
  "kernelspec": {
   "display_name": "Python 3 (ipykernel)",
   "language": "python",
   "name": "python3"
  },
  "language_info": {
   "codemirror_mode": {
    "name": "ipython",
    "version": 3
   },
   "file_extension": ".py",
   "mimetype": "text/x-python",
   "name": "python",
   "nbconvert_exporter": "python",
   "pygments_lexer": "ipython3",
   "version": "3.10.0"
  }
 },
 "nbformat": 4,
 "nbformat_minor": 5
}
