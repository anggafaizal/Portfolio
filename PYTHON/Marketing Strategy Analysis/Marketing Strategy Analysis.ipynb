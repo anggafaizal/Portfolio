{
 "cells": [
  {
   "cell_type": "markdown",
   "id": "24d2ace7",
   "metadata": {},
   "source": [
    "# Hybird Used Car Marketing Strategy Analysis\n",
    "\n",
    "By 2030 we (the used car company) will only be able to sell electric vehicles in the UK. We want to run a campaign to stop the promotion of used electric cars. We know that in the last year we haven't sold many electric cars, so we wanted to know about hybrids to give us some ideas. We'd love to know anything you can tell us about the sales differences between hybrids and other types of sales in the last six months. We know that there are very few hybrid cars on sale. We think it's more expensive, so we need to make it more attractive. We think hybrids could be a good way to get buyers thinking about greener cars. Our goal is to increase the number of hybrid and electric car sales next year."
   ]
  },
  {
   "cell_type": "markdown",
   "id": "8015a0e9",
   "metadata": {},
   "source": [
    "## 1. Business Goals\n",
    "\n",
    "considering that by 2030 all vehicles will be hybrid cars. The marketing team wants new campaign ideas to increase sales of hybrid cars in the next six months. Therefore, the marketing team wants several insights such as the following:\n",
    " \n",
    " - How do Sales Differ Between Hybrid Cars and Other Fuel Types?\n",
    " - How to Make the Hybrid more Attractive?\n",
    " - Recommendations for the type of car that needs to be the main focus in the campaign"
   ]
  },
  {
   "cell_type": "markdown",
   "id": "82117550",
   "metadata": {},
   "source": [
    "## 2. Data Validation"
   ]
  },
  {
   "cell_type": "code",
   "execution_count": 1,
   "id": "a7a5553c",
   "metadata": {},
   "outputs": [
    {
     "data": {
      "text/html": [
       "<div>\n",
       "<style scoped>\n",
       "    .dataframe tbody tr th:only-of-type {\n",
       "        vertical-align: middle;\n",
       "    }\n",
       "\n",
       "    .dataframe tbody tr th {\n",
       "        vertical-align: top;\n",
       "    }\n",
       "\n",
       "    .dataframe thead th {\n",
       "        text-align: right;\n",
       "    }\n",
       "</style>\n",
       "<table border=\"1\" class=\"dataframe\">\n",
       "  <thead>\n",
       "    <tr style=\"text-align: right;\">\n",
       "      <th></th>\n",
       "      <th>model</th>\n",
       "      <th>year</th>\n",
       "      <th>price</th>\n",
       "      <th>transmission</th>\n",
       "      <th>mileage</th>\n",
       "      <th>fuelType</th>\n",
       "      <th>tax</th>\n",
       "      <th>mpg</th>\n",
       "      <th>engineSize</th>\n",
       "    </tr>\n",
       "  </thead>\n",
       "  <tbody>\n",
       "    <tr>\n",
       "      <th>0</th>\n",
       "      <td>GT86</td>\n",
       "      <td>2016</td>\n",
       "      <td>16000</td>\n",
       "      <td>Manual</td>\n",
       "      <td>24089</td>\n",
       "      <td>Petrol</td>\n",
       "      <td>265</td>\n",
       "      <td>36.2</td>\n",
       "      <td>2.0</td>\n",
       "    </tr>\n",
       "    <tr>\n",
       "      <th>1</th>\n",
       "      <td>GT86</td>\n",
       "      <td>2017</td>\n",
       "      <td>15995</td>\n",
       "      <td>Manual</td>\n",
       "      <td>18615</td>\n",
       "      <td>Petrol</td>\n",
       "      <td>145</td>\n",
       "      <td>36.2</td>\n",
       "      <td>2.0</td>\n",
       "    </tr>\n",
       "    <tr>\n",
       "      <th>2</th>\n",
       "      <td>GT86</td>\n",
       "      <td>2015</td>\n",
       "      <td>13998</td>\n",
       "      <td>Manual</td>\n",
       "      <td>27469</td>\n",
       "      <td>Petrol</td>\n",
       "      <td>265</td>\n",
       "      <td>36.2</td>\n",
       "      <td>2.0</td>\n",
       "    </tr>\n",
       "    <tr>\n",
       "      <th>3</th>\n",
       "      <td>GT86</td>\n",
       "      <td>2017</td>\n",
       "      <td>18998</td>\n",
       "      <td>Manual</td>\n",
       "      <td>14736</td>\n",
       "      <td>Petrol</td>\n",
       "      <td>150</td>\n",
       "      <td>36.2</td>\n",
       "      <td>2.0</td>\n",
       "    </tr>\n",
       "    <tr>\n",
       "      <th>4</th>\n",
       "      <td>GT86</td>\n",
       "      <td>2017</td>\n",
       "      <td>17498</td>\n",
       "      <td>Manual</td>\n",
       "      <td>36284</td>\n",
       "      <td>Petrol</td>\n",
       "      <td>145</td>\n",
       "      <td>36.2</td>\n",
       "      <td>2.0</td>\n",
       "    </tr>\n",
       "  </tbody>\n",
       "</table>\n",
       "</div>"
      ],
      "text/plain": [
       "   model  year  price transmission  mileage fuelType  tax   mpg  engineSize\n",
       "0   GT86  2016  16000       Manual    24089   Petrol  265  36.2         2.0\n",
       "1   GT86  2017  15995       Manual    18615   Petrol  145  36.2         2.0\n",
       "2   GT86  2015  13998       Manual    27469   Petrol  265  36.2         2.0\n",
       "3   GT86  2017  18998       Manual    14736   Petrol  150  36.2         2.0\n",
       "4   GT86  2017  17498       Manual    36284   Petrol  145  36.2         2.0"
      ]
     },
     "metadata": {},
     "output_type": "display_data"
    }
   ],
   "source": [
    "# Importing Libraries\n",
    "import pandas as pd\n",
    "import matplotlib.pyplot as plt\n",
    "import seaborn as sns\n",
    "import numpy as np\n",
    "\n",
    "# load the data and view first few rows\n",
    "df = pd.read_csv(\"toyota.csv\")\n",
    "display(df.head())"
   ]
  },
  {
   "cell_type": "code",
   "execution_count": 3,
   "id": "43a7c2ce",
   "metadata": {},
   "outputs": [
    {
     "name": "stdout",
     "output_type": "stream",
     "text": [
      "<class 'pandas.core.frame.DataFrame'>\n",
      "RangeIndex: 6738 entries, 0 to 6737\n",
      "Data columns (total 9 columns):\n",
      " #   Column        Non-Null Count  Dtype  \n",
      "---  ------        --------------  -----  \n",
      " 0   model         6738 non-null   object \n",
      " 1   year          6738 non-null   int64  \n",
      " 2   price         6738 non-null   int64  \n",
      " 3   transmission  6738 non-null   object \n",
      " 4   mileage       6738 non-null   int64  \n",
      " 5   fuelType      6738 non-null   object \n",
      " 6   tax           6738 non-null   int64  \n",
      " 7   mpg           6738 non-null   float64\n",
      " 8   engineSize    6738 non-null   float64\n",
      "dtypes: float64(2), int64(4), object(3)\n",
      "memory usage: 473.9+ KB\n",
      "None\n",
      "\n",
      "\n"
     ]
    },
    {
     "data": {
      "text/html": [
       "<div>\n",
       "<style scoped>\n",
       "    .dataframe tbody tr th:only-of-type {\n",
       "        vertical-align: middle;\n",
       "    }\n",
       "\n",
       "    .dataframe tbody tr th {\n",
       "        vertical-align: top;\n",
       "    }\n",
       "\n",
       "    .dataframe thead th {\n",
       "        text-align: right;\n",
       "    }\n",
       "</style>\n",
       "<table border=\"1\" class=\"dataframe\">\n",
       "  <thead>\n",
       "    <tr style=\"text-align: right;\">\n",
       "      <th></th>\n",
       "      <th>year</th>\n",
       "      <th>price</th>\n",
       "      <th>mileage</th>\n",
       "      <th>tax</th>\n",
       "      <th>mpg</th>\n",
       "      <th>engineSize</th>\n",
       "    </tr>\n",
       "  </thead>\n",
       "  <tbody>\n",
       "    <tr>\n",
       "      <th>count</th>\n",
       "      <td>6738.000000</td>\n",
       "      <td>6738.000000</td>\n",
       "      <td>6738.000000</td>\n",
       "      <td>6738.000000</td>\n",
       "      <td>6738.000000</td>\n",
       "      <td>6738.000000</td>\n",
       "    </tr>\n",
       "    <tr>\n",
       "      <th>mean</th>\n",
       "      <td>2016.748145</td>\n",
       "      <td>12522.391066</td>\n",
       "      <td>22857.413921</td>\n",
       "      <td>94.697240</td>\n",
       "      <td>63.042223</td>\n",
       "      <td>1.471297</td>\n",
       "    </tr>\n",
       "    <tr>\n",
       "      <th>std</th>\n",
       "      <td>2.204062</td>\n",
       "      <td>6345.017587</td>\n",
       "      <td>19125.464147</td>\n",
       "      <td>73.880776</td>\n",
       "      <td>15.836710</td>\n",
       "      <td>0.436159</td>\n",
       "    </tr>\n",
       "    <tr>\n",
       "      <th>min</th>\n",
       "      <td>1998.000000</td>\n",
       "      <td>850.000000</td>\n",
       "      <td>2.000000</td>\n",
       "      <td>0.000000</td>\n",
       "      <td>2.800000</td>\n",
       "      <td>0.000000</td>\n",
       "    </tr>\n",
       "    <tr>\n",
       "      <th>25%</th>\n",
       "      <td>2016.000000</td>\n",
       "      <td>8290.000000</td>\n",
       "      <td>9446.000000</td>\n",
       "      <td>0.000000</td>\n",
       "      <td>55.400000</td>\n",
       "      <td>1.000000</td>\n",
       "    </tr>\n",
       "    <tr>\n",
       "      <th>50%</th>\n",
       "      <td>2017.000000</td>\n",
       "      <td>10795.000000</td>\n",
       "      <td>18513.000000</td>\n",
       "      <td>135.000000</td>\n",
       "      <td>62.800000</td>\n",
       "      <td>1.500000</td>\n",
       "    </tr>\n",
       "    <tr>\n",
       "      <th>75%</th>\n",
       "      <td>2018.000000</td>\n",
       "      <td>14995.000000</td>\n",
       "      <td>31063.750000</td>\n",
       "      <td>145.000000</td>\n",
       "      <td>69.000000</td>\n",
       "      <td>1.800000</td>\n",
       "    </tr>\n",
       "    <tr>\n",
       "      <th>max</th>\n",
       "      <td>2020.000000</td>\n",
       "      <td>59995.000000</td>\n",
       "      <td>174419.000000</td>\n",
       "      <td>565.000000</td>\n",
       "      <td>235.000000</td>\n",
       "      <td>4.500000</td>\n",
       "    </tr>\n",
       "  </tbody>\n",
       "</table>\n",
       "</div>"
      ],
      "text/plain": [
       "              year         price        mileage          tax          mpg  \\\n",
       "count  6738.000000   6738.000000    6738.000000  6738.000000  6738.000000   \n",
       "mean   2016.748145  12522.391066   22857.413921    94.697240    63.042223   \n",
       "std       2.204062   6345.017587   19125.464147    73.880776    15.836710   \n",
       "min    1998.000000    850.000000       2.000000     0.000000     2.800000   \n",
       "25%    2016.000000   8290.000000    9446.000000     0.000000    55.400000   \n",
       "50%    2017.000000  10795.000000   18513.000000   135.000000    62.800000   \n",
       "75%    2018.000000  14995.000000   31063.750000   145.000000    69.000000   \n",
       "max    2020.000000  59995.000000  174419.000000   565.000000   235.000000   \n",
       "\n",
       "        engineSize  \n",
       "count  6738.000000  \n",
       "mean      1.471297  \n",
       "std       0.436159  \n",
       "min       0.000000  \n",
       "25%       1.000000  \n",
       "50%       1.500000  \n",
       "75%       1.800000  \n",
       "max       4.500000  "
      ]
     },
     "metadata": {},
     "output_type": "display_data"
    }
   ],
   "source": [
    "# Display general information about the 'toyota' dataset using the info() method.\n",
    "print(df.info())\n",
    "\n",
    "print('\\n')\n",
    "\n",
    "# Display summary statistics for the 'toyota' dataset using the describe() method.\n",
    "display(df.describe())"
   ]
  },
  {
   "cell_type": "code",
   "execution_count": 4,
   "id": "5d5cef7a",
   "metadata": {},
   "outputs": [
    {
     "data": {
      "text/plain": [
       "model           0\n",
       "year            0\n",
       "price           0\n",
       "transmission    0\n",
       "mileage         0\n",
       "fuelType        0\n",
       "tax             0\n",
       "mpg             0\n",
       "engineSize      0\n",
       "dtype: int64"
      ]
     },
     "execution_count": 4,
     "metadata": {},
     "output_type": "execute_result"
    }
   ],
   "source": [
    "# check for the sum of the null values in the dataframe\n",
    "df.isna().sum()"
   ]
  },
  {
   "cell_type": "code",
   "execution_count": 5,
   "id": "6d53a536",
   "metadata": {},
   "outputs": [
    {
     "name": "stdout",
     "output_type": "stream",
     "text": [
      "Unique values in 'model':\n",
      "[' GT86' ' Corolla' ' RAV4' ' Yaris' ' Auris' ' Aygo' ' C-HR' ' Prius'\n",
      " ' Avensis' ' Verso' ' Hilux' ' PROACE VERSO' ' Land Cruiser' ' Supra'\n",
      " ' Camry' ' Verso-S' ' IQ' ' Urban Cruiser']\n",
      "18\n",
      "\n",
      "\n",
      "Unique values in 'year':\n",
      "[2016 2017 2015 2020 2013 2019 2018 2014 2012 2005 2003 2004 2001 2008\n",
      " 2007 2010 2011 2006 2009 2002 1999 2000 1998]\n",
      "23\n",
      "\n",
      "\n",
      "Unique values in 'price':\n",
      "[16000 15995 13998 ...  4950  4849  4985]\n",
      "2114\n",
      "\n",
      "\n",
      "Unique values in 'transmission':\n",
      "['Manual' 'Automatic' 'Semi-Auto' 'Other']\n",
      "4\n",
      "\n",
      "\n",
      "Unique values in 'mileage':\n",
      "[24089 18615 27469 ... 36154 60700 45128]\n",
      "5699\n",
      "\n",
      "\n",
      "Unique values in 'fuelType':\n",
      "['Petrol' 'Other' 'Hybrid' 'Diesel']\n",
      "4\n",
      "\n",
      "\n",
      "Unique values in 'tax':\n",
      "[265 145 150 260 200 250 140 135 235 300 125  20 160 165 205 240 330 325\n",
      "   0  30 120 155 115 190  10 305 565 555 540]\n",
      "29\n",
      "\n",
      "\n",
      "Unique values in 'mpg':\n",
      "[ 36.2  33.2  32.8  39.8  85.6  36.7  72.4  39.2  78.5  58.9  53.3  62.8\n",
      "  56.5  57.7  37.2  34.5  35.3  40.4  51.1  57.6  60.1  55.4  42.2  43.5\n",
      "  53.   49.6  52.3  48.7  42.8  47.1  38.2  31.4  32.1  30.4  47.9  78.\n",
      "  76.3  58.   65.7  55.   86.   66.   80.7  51.4  67.3  74.3  42.9  54.3\n",
      "  50.4  37.7  44.8  76.4  70.6  61.4  46.3  65.6  83.1  68.8  51.3  40.9\n",
      "  68.9  69.   67.   41.5   6.   94.1  64.2 235.  217.3 134.5  44.1  45.6\n",
      "  30.7  38.7   2.8  30.1  34.9  31.   27.2  23.9  29.7]\n",
      "81\n",
      "\n",
      "\n",
      "Unique values in 'engineSize':\n",
      "[2.  1.8 1.2 1.6 1.4 2.5 2.2 1.5 1.  1.3 0.  2.4 3.  2.8 4.2 4.5]\n",
      "16\n",
      "\n",
      "\n"
     ]
    }
   ],
   "source": [
    "# Get the list of column names in the 'toyota' dataset.\n",
    "columns = df.columns\n",
    "\n",
    "# Iterate through each column in the dataset and print the unique values\n",
    "for col in columns:\n",
    "    unique_values = df[col].unique()\n",
    "    num_of_unique_values = df[col].nunique()\n",
    "    print(f\"Unique values in '{col}':\")\n",
    "    print(unique_values)\n",
    "    print(num_of_unique_values)\n",
    "    print(\"\\n\")"
   ]
  },
  {
   "cell_type": "code",
   "execution_count": 6,
   "id": "65e48853",
   "metadata": {},
   "outputs": [
    {
     "name": "stdout",
     "output_type": "stream",
     "text": [
      "Total duplicates: 39\n",
      "columns with empty strings are: Index([], dtype='object')\n",
      "\n",
      "\n",
      "Numeric columns do not contain negative values.\n",
      "\n",
      "\n"
     ]
    }
   ],
   "source": [
    "# Check for duplicated rows\n",
    "duplicates = df.duplicated()\n",
    "\n",
    "# Count the total number of duplicates\n",
    "total_duplicates = duplicates.sum()\n",
    "\n",
    "# Print the total number of duplicate rows\n",
    "print(f\"Total duplicates: {total_duplicates}\")\n",
    "\n",
    "# Check for columns with empty strings\n",
    "columns_with_empty_strings = df.columns[df.applymap(lambda x: x == '').any()]\n",
    "\n",
    "# Print the columns with empty strings\n",
    "print('columns with empty strings are:', columns_with_empty_strings)\n",
    "print('\\n')\n",
    "\n",
    "# Select numeric columns\n",
    "numeric_cols = df.select_dtypes(include=[np.number])\n",
    "\n",
    "# Check if numeric columns contain negative values\n",
    "contains_negative = (numeric_cols < 0).any().any()\n",
    "\n",
    "if contains_negative:\n",
    "    print(\"Numeric columns contain negative values.\")\n",
    "else:\n",
    "    print(\"Numeric columns do not contain negative values.\")\n",
    "print('\\n')"
   ]
  },
  {
   "cell_type": "code",
   "execution_count": 14,
   "id": "53bfef98",
   "metadata": {},
   "outputs": [],
   "source": [
    "# drop duplicate rows\n",
    "df_no_duplicates = df.drop_duplicates()"
   ]
  },
  {
   "cell_type": "code",
   "execution_count": 15,
   "id": "6a56e332",
   "metadata": {},
   "outputs": [
    {
     "data": {
      "text/html": [
       "<div>\n",
       "<style scoped>\n",
       "    .dataframe tbody tr th:only-of-type {\n",
       "        vertical-align: middle;\n",
       "    }\n",
       "\n",
       "    .dataframe tbody tr th {\n",
       "        vertical-align: top;\n",
       "    }\n",
       "\n",
       "    .dataframe thead th {\n",
       "        text-align: right;\n",
       "    }\n",
       "</style>\n",
       "<table border=\"1\" class=\"dataframe\">\n",
       "  <thead>\n",
       "    <tr style=\"text-align: right;\">\n",
       "      <th></th>\n",
       "      <th>model</th>\n",
       "      <th>year</th>\n",
       "      <th>price</th>\n",
       "      <th>transmission</th>\n",
       "      <th>mileage</th>\n",
       "      <th>fuelType</th>\n",
       "      <th>tax</th>\n",
       "      <th>mpg</th>\n",
       "      <th>engineSize</th>\n",
       "    </tr>\n",
       "  </thead>\n",
       "  <tbody>\n",
       "    <tr>\n",
       "      <th>0</th>\n",
       "      <td>GT86</td>\n",
       "      <td>2016</td>\n",
       "      <td>16000</td>\n",
       "      <td>Manual</td>\n",
       "      <td>24089</td>\n",
       "      <td>Petrol</td>\n",
       "      <td>265</td>\n",
       "      <td>36.2</td>\n",
       "      <td>2.0</td>\n",
       "    </tr>\n",
       "    <tr>\n",
       "      <th>1</th>\n",
       "      <td>GT86</td>\n",
       "      <td>2017</td>\n",
       "      <td>15995</td>\n",
       "      <td>Manual</td>\n",
       "      <td>18615</td>\n",
       "      <td>Petrol</td>\n",
       "      <td>145</td>\n",
       "      <td>36.2</td>\n",
       "      <td>2.0</td>\n",
       "    </tr>\n",
       "    <tr>\n",
       "      <th>2</th>\n",
       "      <td>GT86</td>\n",
       "      <td>2015</td>\n",
       "      <td>13998</td>\n",
       "      <td>Manual</td>\n",
       "      <td>27469</td>\n",
       "      <td>Petrol</td>\n",
       "      <td>265</td>\n",
       "      <td>36.2</td>\n",
       "      <td>2.0</td>\n",
       "    </tr>\n",
       "    <tr>\n",
       "      <th>3</th>\n",
       "      <td>GT86</td>\n",
       "      <td>2017</td>\n",
       "      <td>18998</td>\n",
       "      <td>Manual</td>\n",
       "      <td>14736</td>\n",
       "      <td>Petrol</td>\n",
       "      <td>150</td>\n",
       "      <td>36.2</td>\n",
       "      <td>2.0</td>\n",
       "    </tr>\n",
       "    <tr>\n",
       "      <th>4</th>\n",
       "      <td>GT86</td>\n",
       "      <td>2017</td>\n",
       "      <td>17498</td>\n",
       "      <td>Manual</td>\n",
       "      <td>36284</td>\n",
       "      <td>Petrol</td>\n",
       "      <td>145</td>\n",
       "      <td>36.2</td>\n",
       "      <td>2.0</td>\n",
       "    </tr>\n",
       "    <tr>\n",
       "      <th>...</th>\n",
       "      <td>...</td>\n",
       "      <td>...</td>\n",
       "      <td>...</td>\n",
       "      <td>...</td>\n",
       "      <td>...</td>\n",
       "      <td>...</td>\n",
       "      <td>...</td>\n",
       "      <td>...</td>\n",
       "      <td>...</td>\n",
       "    </tr>\n",
       "    <tr>\n",
       "      <th>6733</th>\n",
       "      <td>IQ</td>\n",
       "      <td>2011</td>\n",
       "      <td>5500</td>\n",
       "      <td>Automatic</td>\n",
       "      <td>30000</td>\n",
       "      <td>Petrol</td>\n",
       "      <td>20</td>\n",
       "      <td>58.9</td>\n",
       "      <td>1.0</td>\n",
       "    </tr>\n",
       "    <tr>\n",
       "      <th>6734</th>\n",
       "      <td>Urban Cruiser</td>\n",
       "      <td>2011</td>\n",
       "      <td>4985</td>\n",
       "      <td>Manual</td>\n",
       "      <td>36154</td>\n",
       "      <td>Petrol</td>\n",
       "      <td>125</td>\n",
       "      <td>50.4</td>\n",
       "      <td>1.3</td>\n",
       "    </tr>\n",
       "    <tr>\n",
       "      <th>6735</th>\n",
       "      <td>Urban Cruiser</td>\n",
       "      <td>2012</td>\n",
       "      <td>4995</td>\n",
       "      <td>Manual</td>\n",
       "      <td>46000</td>\n",
       "      <td>Diesel</td>\n",
       "      <td>125</td>\n",
       "      <td>57.6</td>\n",
       "      <td>1.4</td>\n",
       "    </tr>\n",
       "    <tr>\n",
       "      <th>6736</th>\n",
       "      <td>Urban Cruiser</td>\n",
       "      <td>2011</td>\n",
       "      <td>3995</td>\n",
       "      <td>Manual</td>\n",
       "      <td>60700</td>\n",
       "      <td>Petrol</td>\n",
       "      <td>125</td>\n",
       "      <td>50.4</td>\n",
       "      <td>1.3</td>\n",
       "    </tr>\n",
       "    <tr>\n",
       "      <th>6737</th>\n",
       "      <td>Urban Cruiser</td>\n",
       "      <td>2011</td>\n",
       "      <td>4495</td>\n",
       "      <td>Manual</td>\n",
       "      <td>45128</td>\n",
       "      <td>Petrol</td>\n",
       "      <td>125</td>\n",
       "      <td>50.4</td>\n",
       "      <td>1.3</td>\n",
       "    </tr>\n",
       "  </tbody>\n",
       "</table>\n",
       "<p>6699 rows × 9 columns</p>\n",
       "</div>"
      ],
      "text/plain": [
       "               model  year  price transmission  mileage fuelType  tax   mpg  \\\n",
       "0               GT86  2016  16000       Manual    24089   Petrol  265  36.2   \n",
       "1               GT86  2017  15995       Manual    18615   Petrol  145  36.2   \n",
       "2               GT86  2015  13998       Manual    27469   Petrol  265  36.2   \n",
       "3               GT86  2017  18998       Manual    14736   Petrol  150  36.2   \n",
       "4               GT86  2017  17498       Manual    36284   Petrol  145  36.2   \n",
       "...              ...   ...    ...          ...      ...      ...  ...   ...   \n",
       "6733              IQ  2011   5500    Automatic    30000   Petrol   20  58.9   \n",
       "6734   Urban Cruiser  2011   4985       Manual    36154   Petrol  125  50.4   \n",
       "6735   Urban Cruiser  2012   4995       Manual    46000   Diesel  125  57.6   \n",
       "6736   Urban Cruiser  2011   3995       Manual    60700   Petrol  125  50.4   \n",
       "6737   Urban Cruiser  2011   4495       Manual    45128   Petrol  125  50.4   \n",
       "\n",
       "      engineSize  \n",
       "0            2.0  \n",
       "1            2.0  \n",
       "2            2.0  \n",
       "3            2.0  \n",
       "4            2.0  \n",
       "...          ...  \n",
       "6733         1.0  \n",
       "6734         1.3  \n",
       "6735         1.4  \n",
       "6736         1.3  \n",
       "6737         1.3  \n",
       "\n",
       "[6699 rows x 9 columns]"
      ]
     },
     "execution_count": 15,
     "metadata": {},
     "output_type": "execute_result"
    }
   ],
   "source": [
    "df_no_duplicates"
   ]
  },
  {
   "cell_type": "markdown",
   "id": "8c4dc8d4",
   "metadata": {},
   "source": [
    "### Data Validation Summary\n",
    "- The dataset used for this analysis is toyota.csv\n",
    "- The number of observations is 6738 records; the number of columns is 9.\n",
    "  -  `model`\n",
    "     - General Observations: 18 unique values\n",
    "     - Missing Values: None\n",
    "     - Action Taken: None\n",
    "  - `year`\n",
    "     - General Observations: 23 unique values, from 1998 to 2020\n",
    "     - Missing Values: None\n",
    "     - Action Taken: None\n",
    "  - `price`\n",
    "     - General Observations: Numeric Values, varies between 850 GBP and 59995 GBP\n",
    "     - Missing Values: None\n",
    "     - Action Taken: None\n",
    "  - `transmission`\n",
    "     - General Observations: 18 unique values\n",
    "     - Missing Values: None\n",
    "     - Action Taken: None\n",
    "  - `mileage`\n",
    "     - General Observations: numeric values, Varies between 2 and 174419 \n",
    "     - Missing Values:\n",
    "     - Action Taken: \n",
    "  - `fuel_type`\n",
    "     - General Observations: 4 categories of fuel types, namely gasoline, diesel, hybrid\n",
    "     - Missing Values: None\n",
    "     - Action Taken: None\n",
    "  - `tax`\n",
    "     - General Observations: numeric values, varies between 0 and 565\n",
    "     - Missing Values: None\n",
    "     - Action Taken: None\n",
    "  - `mpg`\n",
    "     - General Observations: numeric values, varies between 2.8 and 235\n",
    "     - Missing Values: None\n",
    "     - Action Taken: None\n",
    "  - `engineSize`\n",
    "     - General Observations: numeric values, varies between 0 and 4.5\n",
    "     - Missing Values: None\n",
    "     - Action Taken: None  \n",
    "   \n",
    "\n",
    "After the data validation, the dataset contains 6699  rows and 9 columns without missing values and duplicate values.\n"
   ]
  },
  {
   "cell_type": "markdown",
   "id": "6bc18045",
   "metadata": {},
   "source": [
    "## 3. Exploratory Data Analysis"
   ]
  },
  {
   "cell_type": "markdown",
   "id": "6e6a2e06",
   "metadata": {},
   "source": [
    "### How do Sales Differ Between Hybrid Cars and Other Fuel Types?\n",
    "#### a. Difference in the number of sales of hybrid cars with other fuel cars"
   ]
  },
  {
   "cell_type": "code",
   "execution_count": 26,
   "id": "59c10c6c",
   "metadata": {},
   "outputs": [
    {
     "data": {
      "image/png": "[encoded data removed]",
      "text/plain": [
       "<Figure size 576x432 with 1 Axes>"
      ]
     },
     "metadata": {
      "needs_background": "light"
     },
     "output_type": "display_data"
    }
   ],
   "source": [
    "# Menghitung jumlah mobil terjual untuk setiap tipe bahan bakar\n",
    "fuel_sales = df_no_duplicates['fuelType'].value_counts()\n",
    "\n",
    "# Visualisasi menggunakan bar chart dengan Seaborn\n",
    "plt.figure(figsize=(8, 6))\n",
    "sns.barplot(x=fuel_sales.index, y=fuel_sales.values, palette='viridis')\n",
    "plt.title(\"Perbandingan Penjualan Mobil Berdasarkan Tipe Bahan Bakar\")\n",
    "plt.xlabel(\"Tipe Bahan Bakar\")\n",
    "plt.ylabel(\"Jumlah Mobil Terjual\")\n",
    "plt.show()"
   ]
  },
  {
   "cell_type": "markdown",
   "id": "babd6be6",
   "metadata": {},
   "source": [
    "From the last 6 months' record, more than half of the used cars we sold are using petrol, followed by using hybrid. Also, we can see the number of cars sold in petrol is almost twice the number of cars sold in hybrid. Therefore, we can conclude that there is huge room to impove the sales of hybrid cars."
   ]
  },
  {
   "cell_type": "markdown",
   "id": "f509a8d7",
   "metadata": {},
   "source": [
    "#### b. Comparison of the number of cars sold with Hybrid fuel"
   ]
  },
  {
   "cell_type": "code",
   "execution_count": 49,
   "id": "ebd6b3ec",
   "metadata": {},
   "outputs": [
    {
     "data": {
      "image/png": "[encoded data removed]",
      "text/plain": [
       "<Figure size 720x432 with 1 Axes>"
      ]
     },
     "metadata": {
      "needs_background": "light"
     },
     "output_type": "display_data"
    }
   ],
   "source": [
    "# Menghitung jumlah mobil terjual dengan tipe bahan bakar hybrid\n",
    "hybrid_sales = df_no_duplicates[df_no_duplicates['fuelType'] == 'Hybrid']['model'].value_counts()\n",
    "\n",
    "# Visualisasi menggunakan bar chart dengan Seaborn\n",
    "plt.figure(figsize=(10, 6))\n",
    "sns.barplot(x=hybrid_sales.index, y=hybrid_sales.values, palette='viridis')\n",
    "plt.title(\"Perbandingan Penjualan Mobil Hybrid\")\n",
    "plt.xlabel(\"Model Mobil\")\n",
    "plt.ylabel(\"Jumlah Mobil Hybrid Terjual\")\n",
    "plt.xticks(rotation=90)\n",
    "plt.show()"
   ]
  },
  {
   "cell_type": "markdown",
   "id": "17de8082",
   "metadata": {},
   "source": [
    "The number of cars sold only uses hybrid fuel, the best seller in car models is Yaris, followed by Auris and C-HR."
   ]
  },
  {
   "cell_type": "markdown",
   "id": "8af2fd6b",
   "metadata": {},
   "source": [
    "#### c. Spread of car prices for all types of fuel"
   ]
  },
  {
   "cell_type": "code",
   "execution_count": 33,
   "id": "8f258f94",
   "metadata": {},
   "outputs": [
    {
     "data": {
      "image/png": "[encoded data removed]",
      "text/plain": [
       "<Figure size 576x432 with 1 Axes>"
      ]
     },
     "metadata": {
      "needs_background": "light"
     },
     "output_type": "display_data"
    }
   ],
   "source": [
    "# distribusi price menggunakan histogram dengan Seaborn\n",
    "plt.figure(figsize=(8, 6))\n",
    "sns.histplot(df_no_duplicates['price'], bins=30, kde=False, color='skyblue', edgecolor='k')\n",
    "plt.title(\"Distribusi Harga Mobil\")\n",
    "plt.xlabel(\"Harga (GBP)\")\n",
    "plt.ylabel(\"Frekuensi\")\n",
    "plt.show()"
   ]
  },
  {
   "cell_type": "markdown",
   "id": "347037e6",
   "metadata": {},
   "source": [
    "The histogram graph above shows the distribution of used car prices, the majority of cars are sold at a price of 30,000 GPB, cars sold above 30,000 GBP can be considered as outliers"
   ]
  },
  {
   "cell_type": "markdown",
   "id": "9ace75a9",
   "metadata": {},
   "source": [
    "#### d. Distribution of Car Prices for Each Type of Fuel"
   ]
  },
  {
   "cell_type": "code",
   "execution_count": 36,
   "id": "5ae3b287",
   "metadata": {},
   "outputs": [
    {
     "data": {
      "text/plain": [
       "<Figure size 720x432 with 0 Axes>"
      ]
     },
     "metadata": {},
     "output_type": "display_data"
    },
    {
     "data": {
      "image/png": "[encoded data removed]",
      "text/plain": [
       "<Figure size 720x432 with 1 Axes>"
      ]
     },
     "metadata": {
      "needs_background": "light"
     },
     "output_type": "display_data"
    }
   ],
   "source": [
    "# Distribusi price mobil semua jenis bahan bakar\n",
    "plt.figure(figsize=(10, 6))\n",
    "\n",
    "# Visualisasi menggunakan boxplot dengan Seaborn\n",
    "plt.figure(figsize=(10, 6))\n",
    "sns.boxplot(x='fuelType', y='price', data=df_no_duplicates)\n",
    "plt.title(\"Distribusi Harga Mobil untuk Masing-masing Tipe Bahan Bakar\")\n",
    "plt.xlabel(\"Tipe Bahan Bakar\")\n",
    "plt.ylabel(\"Harga (GBP)\")\n",
    "plt.show()"
   ]
  },
  {
   "cell_type": "markdown",
   "id": "bf6ed277",
   "metadata": {},
   "source": [
    "From the multiple box plot graph, it can be seen that the price of a hybrid fueled car is more expensive than its competitor petrol fueled car. \n",
    "The majority of the price of a hybrid car ranges from 13000 to 21000 GBP, while petrol cars are mainly sold from 9000 to 12000 GBP. However, we can see that there are a few hybrid fuel cars also sold at this price"
   ]
  },
  {
   "cell_type": "markdown",
   "id": "68f16c0e",
   "metadata": {},
   "source": [
    "### How to Make the Hybrid more Attractive?"
   ]
  },
  {
   "cell_type": "markdown",
   "id": "7d46690c",
   "metadata": {},
   "source": [
    "#### a. Hybrid Car Price Distribution Based on Model"
   ]
  },
  {
   "cell_type": "code",
   "execution_count": 34,
   "id": "582568a3",
   "metadata": {},
   "outputs": [
    {
     "data": {
      "text/plain": [
       "<Figure size 720x432 with 0 Axes>"
      ]
     },
     "metadata": {},
     "output_type": "display_data"
    },
    {
     "data": {
      "image/png": "[encoded data removed]",
      "text/plain": [
       "<Figure size 720x432 with 1 Axes>"
      ]
     },
     "metadata": {
      "needs_background": "light"
     },
     "output_type": "display_data"
    }
   ],
   "source": [
    "# Distribusi price mobil berjenis bahan bakar hybrid\n",
    "plt.figure(figsize=(10, 6))\n",
    "\n",
    "# Filter data hanya untuk mobil dengan fuelType 'Hybrid'\n",
    "data_hybrid = df_no_duplicates[df_no_duplicates['fuelType'] == 'Hybrid']\n",
    "\n",
    "# Visualisasi menggunakan boxplot dengan Seaborn\n",
    "plt.figure(figsize=(10, 6))\n",
    "sns.boxplot(x='model', y='price', data=data_hybrid)\n",
    "plt.title(\"Distribusi Harga Mobil Hybrid Berdasarkan Model\")\n",
    "plt.xlabel(\"Model Mobil Hybrid\")\n",
    "plt.ylabel(\"Harga (GBP)\")\n",
    "plt.xticks(rotation=90)\n",
    "plt.show()\n"
   ]
  },
  {
   "cell_type": "markdown",
   "id": "bbe50499",
   "metadata": {},
   "source": [
    "Considering Hybrid models are more expensive on average than other types, we will find different ways to attract customers. From the various box plots below, the Prius, Yaris and Auris have sales records lower than 10,000 GBP in the last 6 months, which is able to compete with petrol cars. Therefore, for people who prioritize price, we should make these three models the main campaign car models."
   ]
  },
  {
   "cell_type": "markdown",
   "id": "cf5fe3e9",
   "metadata": {},
   "source": [
    "#### b. Number of Cars Sold Based on Road Tax and Fuel Type"
   ]
  },
  {
   "cell_type": "code",
   "execution_count": 50,
   "id": "f58e5a58",
   "metadata": {},
   "outputs": [
    {
     "data": {
      "image/png": "[encoded data removed]",
      "text/plain": [
       "<Figure size 720x432 with 1 Axes>"
      ]
     },
     "metadata": {
      "needs_background": "light"
     },
     "output_type": "display_data"
    }
   ],
   "source": [
    "# Menghitung jumlah mobil terjual untuk setiap tipe bahan bakar berdasarkan pajak jalan\n",
    "road_tax_sales = df_no_duplicates.groupby(['tax','fuelType']).size().unstack(fill_value=0)\n",
    "\n",
    "# Visualisasi menggunakan bar chart\n",
    "road_tax_sales.plot(kind='bar', stacked=True, figsize=(10, 6))\n",
    "plt.title(\"Jumlah Mobil Terjual Berdasarkan Pajak Jalan (road tax) dan Tipe Bahan Bakar\")\n",
    "plt.xlabel(\"Pajak Jalan (GBP)\")\n",
    "plt.ylabel(\"Jumlah Mobil Terjual\")\n",
    "plt.legend(title=\"Jenis Bahan Bakar Mobil\",loc = \"upper right\")\n",
    "plt.show()\n"
   ]
  },
  {
   "cell_type": "markdown",
   "id": "bafc0080",
   "metadata": {},
   "source": [
    "Another interesting thing is road tax, there are a large number of hybrid cars with 0 GBP road tax. where the road tax for petrol cars as the majority of its competitors is 145 GBP. therefore, we can offer customers hybrid cars with zero road tax"
   ]
  },
  {
   "cell_type": "markdown",
   "id": "76778e53",
   "metadata": {},
   "source": [
    "#### c. Number of Cars Sold for Hybrid Car Types with Zero Tax Based on Model"
   ]
  },
  {
   "cell_type": "code",
   "execution_count": 43,
   "id": "79c462fe",
   "metadata": {},
   "outputs": [
    {
     "data": {
      "image/png": "[encoded data removed]",
      "text/plain": [
       "<Figure size 720x432 with 1 Axes>"
      ]
     },
     "metadata": {
      "needs_background": "light"
     },
     "output_type": "display_data"
    }
   ],
   "source": [
    "# Filter mobil berjenis hybrid dengan pajak nol\n",
    "hybrid_tax_zero = df_no_duplicates[(df_no_duplicates['fuelType'] == 'Hybrid') & (df_no_duplicates['tax'] == 0)]\n",
    "\n",
    "# Membuat DataFrame terkait\n",
    "hybrid_tax_zero_counts = hybrid_tax_zero['model'].value_counts().reset_index()\n",
    "hybrid_tax_zero_counts.columns = ['Model', 'Jumlah_Mobil_Terjual']\n",
    "\n",
    "# Membuat plot menggunakan Seaborn\n",
    "plt.figure(figsize=(10, 6))\n",
    "sns.barplot(x='Model', y='Jumlah_Mobil_Terjual', data=hybrid_tax_zero_counts, palette='viridis')\n",
    "plt.title(\"Jumlah Mobil Terjual untuk Jenis Mobil Hybrid dengan Pajak Nol\")\n",
    "plt.xlabel(\"Jenis Mobil\")\n",
    "plt.ylabel(\"Jumlah Mobil Terjual\")\n",
    "plt.xticks(rotation=45, ha='right')  # Untuk memutar label sumbu x agar legible\n",
    "\n",
    "# Menampilkan plot\n",
    "plt.show()"
   ]
  },
  {
   "cell_type": "markdown",
   "id": "6a92f577",
   "metadata": {},
   "source": [
    "Hybrid models with zero road tax consist of the **Auris, Yaris, Prius, C-HR** models. where these four types of cars sold 995 units, or 14.85% of all used cars sold. "
   ]
  },
  {
   "cell_type": "markdown",
   "id": "083c6e21",
   "metadata": {},
   "source": [
    "## 4. Business Metrics\n",
    "\n",
    "Based on all the insights and our business goals, I would recommend we use **the percentage of zero-tax hybrid cars in total number of used cars sold last 6 months** as our main metric.\n",
    "\n",
    "Based on data from the past 6 months, 14.85% of used cars sold were hybrid fuel cars with zero tax. Therefore, if this percentage increases in the next 6 months, it will be a good sign to achieve our goal."
   ]
  },
  {
   "cell_type": "markdown",
   "id": "d32d1750",
   "metadata": {},
   "source": [
    "## 5. Recommendation\n",
    "\n",
    "To implement the campaign immediately, we need to be smart in promoting car models\n",
    "hybrid on the market. Here are some strategies that can be implemented:\n",
    "\n",
    "- Promoting road tax reduction: One of the effective steps is to convey to prospective buyers about the benefits of road tax reduction that applies to hybrid cars. With Precipitating these profits, the company can attract the attention of potential buyers who want to reduce operating costs of their car.\n",
    "- Introducing More Affordable Models with 0 GPB road tax: Promotion could focus on hybrid models more affordable ones, such as the Prius, Yaris, Auris, and CH-R. By highlighting the features and benefits of this models, we can appeal to a wider market segment and provide more affordable options for aspirants buyer.\n",
    "- Keep abreast of developments in the electric and hybrid car market: It is important for companies to always keep up Latest developments in the electric and hybrid car market. By collecting the latest information about trends, consumer preferences, and the latest technology, we can integrate relevant elements and pulling into the campaign. This allows our campaigns to remain in line with current market needs This.\n",
    "- By combining the strategies above, hybrid car promotional campaigns will be more effective and feasible reach the target market better.\n"
   ]
  },
  {
   "cell_type": "code",
   "execution_count": null,
   "id": "320e02c6",
   "metadata": {},
   "outputs": [],
   "source": []
  }
 ],
 "metadata": {
  "kernelspec": {
   "display_name": "Python 3 (ipykernel)",
   "language": "python",
   "name": "python3"
  },
  "language_info": {
   "codemirror_mode": {
    "name": "ipython",
    "version": 3
   },
   "file_extension": ".py",
   "mimetype": "text/x-python",
   "name": "python",
   "nbconvert_exporter": "python",
   "pygments_lexer": "ipython3",
   "version": "3.10.0"
  }
 },
 "nbformat": 4,
 "nbformat_minor": 5
}
